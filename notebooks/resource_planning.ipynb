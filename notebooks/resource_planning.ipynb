{
 "cells": [
  {
   "cell_type": "markdown",
   "metadata": {},
   "source": [
    "# Resource Planner\n",
    "\n",
    "This notebook showcases the various calls provided by the API.\n",
    "\n",
    "### Get a list of all configs available\n",
    "\n",
    "These are demo-configs which can be used for testing the system. "
   ]
  },
  {
   "cell_type": "code",
   "execution_count": 2,
   "metadata": {
    "execution": {
     "iopub.execute_input": "2025-04-28T15:24:28.599617Z",
     "iopub.status.busy": "2025-04-28T15:24:28.599617Z",
     "iopub.status.idle": "2025-04-28T15:24:28.612170Z",
     "shell.execute_reply": "2025-04-28T15:24:28.612170Z"
    }
   },
   "outputs": [
    {
     "name": "stdout",
     "output_type": "stream",
     "text": [
      "Available configurations: oge, test_l1, test_l2, test_max_work_time\n"
     ]
    }
   ],
   "source": [
    "import requests\n",
    "\n",
    "# List all available configurations\n",
    "response = requests.get(\"http://localhost:5000/api/resource-planner/configurations\")\n",
    "\n",
    "if response.status_code == 200:\n",
    "    configs = response.json()[\"configurations\"]\n",
    "    print(f\"Available configurations: {', '.join(configs)}\")\n",
    "else:\n",
    "    print(f\"Error: {response.json()['error']}\")"
   ]
  },
  {
   "cell_type": "markdown",
   "metadata": {},
   "source": [
    "### Solve with a given Configuration Name\n",
    "\n",
    "This examples let's the API solve the resource planning for a named configuration."
   ]
  },
  {
   "cell_type": "code",
   "execution_count": 3,
   "metadata": {
    "execution": {
     "iopub.execute_input": "2025-04-28T15:24:28.615706Z",
     "iopub.status.busy": "2025-04-28T15:24:28.614697Z",
     "iopub.status.idle": "2025-04-28T15:24:29.293699Z",
     "shell.execute_reply": "2025-04-28T15:24:29.293699Z"
    }
   },
   "outputs": [
    {
     "name": "stdout",
     "output_type": "stream",
     "text": [
      "Error: tuple indices must be integers or slices, not str\n"
     ]
    }
   ],
   "source": [
    "import requests\n",
    "\n",
    "########################################################\n",
    "config_name = \"test_max_work_time\" # Provide here a valid configuration name\n",
    "########################################################\n",
    "\n",
    "# Solve using a configuration name\n",
    "response = requests.post(\n",
    "    \"http://localhost:5000/api/resource-planner/solve\",\n",
    "    json={\"config_name\": config_name}\n",
    ")\n",
    "\n",
    "if response.status_code == 200:\n",
    "    result = response.json()\n",
    "    \n",
    "    # Print timing and status information\n",
    "    print(f\"Solving started at {result['date']} {result['start_time']}\")\n",
    "    print(f\"Solving finished at {result['date']} {result['end_time']}\")\n",
    "    print(f\"Duration: {result['duration_seconds']:.2f} seconds\")\n",
    "    print(f\"Status: {result['status']}\")\n",
    "    \n",
    "    # Print assignments\n",
    "    print(\"\\nAssignments:\")\n",
    "    assignments = result[\"assignments\"]\n",
    "    assignments.sort(key=lambda x: (x['date'], x['duty_code'], x['start_time']))\n",
    "    \n",
    "    # Use list comprehension and f-strings for better readability and performance\n",
    "    assignments_str = []\n",
    "    for a in assignments:\n",
    "        employees_str = '; '.join([f\"{e['employee_id']} ({e['employee_name']})\" for e in a.get('employees', [])])\n",
    "        assignment_str = f\"  {a['date']}: {a['duty_code']} ({a['duty_id']}) ({a['start_time']}-{a['end_time']}): {employees_str}\"\n",
    "        assignments_str.append(assignment_str)\n",
    "    print('\\n'.join(assignments_str))\n",
    "\n",
    "else:\n",
    "    print(f\"Error: {response.json()['error']}\")"
   ]
  }
 ],
 "metadata": {
  "kernelspec": {
   "display_name": ".venv",
   "language": "python",
   "name": "python3"
  },
  "language_info": {
   "codemirror_mode": {
    "name": "ipython",
    "version": 3
   },
   "file_extension": ".py",
   "mimetype": "text/x-python",
   "name": "python",
   "nbconvert_exporter": "python",
   "pygments_lexer": "ipython3",
   "version": "3.11.11"
  }
 },
 "nbformat": 4,
 "nbformat_minor": 2
}
