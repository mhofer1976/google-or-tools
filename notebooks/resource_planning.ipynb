{
 "cells": [
  {
   "cell_type": "markdown",
   "metadata": {},
   "source": [
    "# Resource Planner\n",
    "\n",
    "This notebook showcases the various calls provided by the API.\n",
    "\n",
    "### Get a list of all configs available\n",
    "\n",
    "These are demo-configs which can be used for testing the system. "
   ]
  },
  {
   "cell_type": "code",
   "execution_count": 3,
   "metadata": {
    "execution": {
     "iopub.execute_input": "2025-04-28T15:24:28.599617Z",
     "iopub.status.busy": "2025-04-28T15:24:28.599617Z",
     "iopub.status.idle": "2025-04-28T15:24:28.612170Z",
     "shell.execute_reply": "2025-04-28T15:24:28.612170Z"
    }
   },
   "outputs": [
    {
     "name": "stdout",
     "output_type": "stream",
     "text": [
      "Available configurations: oge\n"
     ]
    }
   ],
   "source": [
    "import requests\n",
    "\n",
    "# List all available configurations\n",
    "response = requests.get(\"http://localhost:5000/api/resource-planner/configurations\")\n",
    "\n",
    "if response.status_code == 200:\n",
    "    configs = response.json()[\"configurations\"]\n",
    "    print(f\"Available configurations: {', '.join(configs)}\")\n",
    "else:\n",
    "    print(f\"Error: {response.json()['error']}\")"
   ]
  },
  {
   "cell_type": "markdown",
   "metadata": {},
   "source": [
    "### Solve with a given Configuration Name\n",
    "\n",
    "This examples let's the API solve the resource planning for a named configuration."
   ]
  },
  {
   "cell_type": "code",
   "execution_count": 4,
   "metadata": {
    "execution": {
     "iopub.execute_input": "2025-04-28T15:24:28.615706Z",
     "iopub.status.busy": "2025-04-28T15:24:28.614697Z",
     "iopub.status.idle": "2025-04-28T15:24:29.293699Z",
     "shell.execute_reply": "2025-04-28T15:24:29.293699Z"
    }
   },
   "outputs": [
    {
     "name": "stdout",
     "output_type": "stream",
     "text": [
      "Error: strptime() argument 1 must be str, not None\n"
     ]
    }
   ],
   "source": [
    "import requests\n",
    "\n",
    "########################################################\n",
    "config_name = \"oge\" # Provide here a valid configuration name\n",
    "########################################################\n",
    "\n",
    "# Solve using a configuration name\n",
    "response = requests.post(\n",
    "    \"http://localhost:5000/api/resource-planner/solve\",\n",
    "    json={\"config_name\": config_name}\n",
    ")\n",
    "\n",
    "if response.status_code == 200:\n",
    "    result = response.json()\n",
    "    print(f\"Solution found with {len(result['assignments'])} assignments\")\n",
    "    \n",
    "    # Print validation results\n",
    "    print(\"\\nValidation results:\")\n",
    "    for constraint, is_valid in result[\"validation_results\"].items():\n",
    "        print(f\"  {constraint}: {'Valid' if is_valid else 'Invalid'}\")\n",
    "    \n",
    "    # Print assignments\n",
    "    print(\"\\nAssignments:\")\n",
    "    for assignment in result[\"assignments\"]:\n",
    "        print(f\"  {assignment['date']} - {assignment['duty_code']} \"\n",
    "              f\"({assignment['start_time']}-{assignment['end_time']}): \"\n",
    "              f\"Employee {assignment['employee_id']} ({assignment['employee_name']})\")\n",
    "else:\n",
    "    print(f\"Error: {response.json()['error']}\")"
   ]
  },
  {
   "cell_type": "markdown",
   "metadata": {},
   "source": [
    "Make sure that each duty has the amount of required employees.\n",
    "This constraint is essential because it tells the solver that each duty must have exactly the number of employees specified in the `required_employees` field."
   ]
  },
  {
   "cell_type": "code",
   "execution_count": 9,
   "metadata": {},
   "outputs": [],
   "source": []
  },
  {
   "cell_type": "markdown",
   "metadata": {},
   "source": [
    "Rule 1: Can't assign an employee on a blocked date"
   ]
  },
  {
   "cell_type": "code",
   "execution_count": 3,
   "metadata": {
    "execution": {
     "iopub.execute_input": "2025-04-28T15:24:29.293699Z",
     "iopub.status.busy": "2025-04-28T15:24:29.293699Z",
     "iopub.status.idle": "2025-04-28T15:24:29.302247Z",
     "shell.execute_reply": "2025-04-28T15:24:29.302247Z"
    }
   },
   "outputs": [],
   "source": []
  },
  {
   "cell_type": "code",
   "execution_count": null,
   "metadata": {},
   "outputs": [],
   "source": []
  },
  {
   "cell_type": "code",
   "execution_count": null,
   "metadata": {
    "execution": {
     "iopub.execute_input": "2025-04-28T15:24:29.306886Z",
     "iopub.status.busy": "2025-04-28T15:24:29.306886Z",
     "iopub.status.idle": "2025-04-28T15:24:29.338076Z",
     "shell.execute_reply": "2025-04-28T15:24:29.338076Z"
    }
   },
   "outputs": [],
   "source": []
  }
 ],
 "metadata": {
  "kernelspec": {
   "display_name": ".venv",
   "language": "python",
   "name": "python3"
  },
  "language_info": {
   "codemirror_mode": {
    "name": "ipython",
    "version": 3
   },
   "file_extension": ".py",
   "mimetype": "text/x-python",
   "name": "python",
   "nbconvert_exporter": "python",
   "pygments_lexer": "ipython3",
   "version": "3.11.11"
  }
 },
 "nbformat": 4,
 "nbformat_minor": 2
}
