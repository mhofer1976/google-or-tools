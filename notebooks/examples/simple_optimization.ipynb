{
 "cells": [
  {
   "cell_type": "markdown",
   "id": "40ed8013",
   "metadata": {},
   "source": [
    "# Simple Optimization Example with Google OR-Tools\n",
    "\n",
    "This notebook demonstrates a simple linear optimization problem using Google OR-Tools. We'll solve a production planning problem where we need to maximize profit subject to resource constraints."
   ]
  },
  {
   "cell_type": "markdown",
   "id": "308b094d",
   "metadata": {},
   "source": [
    "## Problem Description\n",
    "\n",
    "We have a production scenario with two products (x and y) and two resources. The goal is to maximize profit while respecting resource constraints:\n",
    "\n",
    "- Product x: generates $3 profit per unit\n",
    "- Product y: generates $4 profit per unit\n",
    "\n",
    "Resource constraints:\n",
    "- Resource 1: 2x + y ≤ 100\n",
    "- Resource 2: x + 2y ≤ 100\n",
    "\n",
    "Our objective is to maximize: 3x + 4y"
   ]
  },
  {
   "cell_type": "code",
   "execution_count": null,
   "id": "1367d86d",
   "metadata": {},
   "outputs": [],
   "source": [
    "import numpy as np\n",
    "import matplotlib.pyplot as plt\n",
    "from ortools.linear_solver import pywraplp\n",
    "\n",
    "# Create the solver\n",
    "solver = pywraplp.Solver.CreateSolver('GLOP')\n",
    "\n",
    "if not solver:\n",
    "    print('Could not create solver GLOP')\n",
    "else:\n",
    "    print('Solver created successfully')"
   ]
  },
  {
   "cell_type": "markdown",
   "id": "9046e3f6",
   "metadata": {},
   "source": [
    "## Define Variables and Constraints\n",
    "\n",
    "Let's create our decision variables and add the constraints to our solver."
   ]
  },
  {
   "cell_type": "code",
   "execution_count": null,
   "id": "df40e3d6",
   "metadata": {},
   "outputs": [],
   "source": [
    "# Create variables\n",
    "x = solver.NumVar(0, float('inf'), 'x')  # Product 1\n",
    "y = solver.NumVar(0, float('inf'), 'y')  # Product 2\n",
    "\n",
    "# Create constraints\n",
    "solver.Add(2 * x + y <= 100)  # Resource 1 constraint\n",
    "solver.Add(x + 2 * y <= 100)  # Resource 2 constraint\n",
    "\n",
    "# Set objective function: maximize 3x + 4y\n",
    "solver.Maximize(3 * x + 4 * y)\n",
    "\n",
    "print('Variables and constraints added to solver')"
   ]
  },
  {
   "cell_type": "markdown",
   "id": "25379fbf",
   "metadata": {},
   "source": [
    "## Solve the Problem\n",
    "\n",
    "Now let's solve our optimization problem and display the results."
   ]
  },
  {
   "cell_type": "code",
   "execution_count": null,
   "id": "629c872d",
   "metadata": {},
   "outputs": [],
   "source": [
    "# Solve the problem\n",
    "status = solver.Solve()\n",
    "\n",
    "if status == pywraplp.Solver.OPTIMAL:\n",
    "    print('Solution found!')\n",
    "    print(f'Optimal objective value = {solver.Objective().Value()}')\n",
    "    print(f'x = {x.solution_value()}')\n",
    "    print(f'y = {y.solution_value()}')\n",
    "else:\n",
    "    print('No solution found.')"
   ]
  },
  {
   "cell_type": "markdown",
   "id": "d633f054",
   "metadata": {},
   "source": [
    "## Visualize the Solution\n",
    "\n",
    "Let's create a visualization of our feasible region and the optimal solution."
   ]
  },
  {
   "cell_type": "code",
   "execution_count": null,
   "id": "e5a56446",
   "metadata": {},
   "outputs": [],
   "source": [
    "# Create points for plotting\n",
    "x_vals = np.linspace(0, 60, 100)\n",
    "\n",
    "# Calculate constraint lines (1D arrays)\n",
    "constraint1 = 100 - 2*x_vals  # y ≤ 100 - 2x\n",
    "constraint2 = (100 - x_vals)/2  # y ≤ (100 - x)/2\n",
    "\n",
    "# Plot the feasible region\n",
    "plt.figure(figsize=(10, 8))\n",
    "plt.plot(x_vals, constraint1, 'b-', label='2x + y ≤ 100')\n",
    "plt.plot(x_vals, constraint2, 'r-', label='x + 2y ≤ 100')\n",
    "\n",
    "# Fill the feasible region\n",
    "plt.fill_between(x_vals, 0, np.minimum(constraint1, constraint2), alpha=0.3)\n",
    "\n",
    "# Plot the optimal solution if found\n",
    "if status == pywraplp.Solver.OPTIMAL:\n",
    "    plt.plot(x.solution_value(), y.solution_value(), 'go', markersize=10, label='Optimal Solution')\n",
    "\n",
    "plt.grid(True)\n",
    "plt.xlabel('Product x')\n",
    "plt.ylabel('Product y')\n",
    "plt.title('Feasible Region and Optimal Solution')\n",
    "plt.legend()\n",
    "plt.axis([0, 60, 0, 60])\n",
    "plt.show()"
   ]
  },
  {
   "cell_type": "markdown",
   "id": "f79b4ae9",
   "metadata": {},
   "source": [
    "## Interpretation of Results\n",
    "\n",
    "The visualization shows:\n",
    "1. The blue line represents the first resource constraint (2x + y ≤ 100)\n",
    "2. The red line represents the second resource constraint (x + 2y ≤ 100)\n",
    "3. The green dot shows the optimal solution\n",
    "4. The shaded area represents the feasible region where all constraints are satisfied\n",
    "\n",
    "The optimal solution occurs at the intersection of the two constraint lines, which is where we get the maximum profit while using all available resources efficiently. "
   ]
  }
 ],
 "metadata": {
  "jupytext": {
   "cell_metadata_filter": "-all",
   "main_language": "python",
   "notebook_metadata_filter": "-all"
  },
  "kernelspec": {
   "display_name": ".venv",
   "language": "python",
   "name": "python3"
  },
  "language_info": {
   "codemirror_mode": {
    "name": "ipython",
    "version": 3
   },
   "file_extension": ".py",
   "mimetype": "text/x-python",
   "name": "python",
   "nbconvert_exporter": "python",
   "pygments_lexer": "ipython3",
   "version": "3.11.11"
  }
 },
 "nbformat": 4,
 "nbformat_minor": 5
}
